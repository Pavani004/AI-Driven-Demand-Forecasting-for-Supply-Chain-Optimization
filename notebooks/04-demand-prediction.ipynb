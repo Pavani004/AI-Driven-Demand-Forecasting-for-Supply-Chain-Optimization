{
 "cells": [
  {
   "cell_type": "code",
   "execution_count": 10,
   "metadata": {},
   "outputs": [],
   "source": [
    "import os\n",
    "\n",
    "# Create the 'outputs' directory if it doesn't exist\n",
    "if not os.path.exists('outputs'):\n",
    "    os.makedirs('outputs')\n",
    "    print(\"Created 'outputs' directory.\")"
   ]
  },
  {
   "cell_type": "code",
   "execution_count": 7,
   "metadata": {},
   "outputs": [
    {
     "name": "stdout",
     "output_type": "stream",
     "text": [
      "Model saved to 'outputs/model.pkl'.\n"
     ]
    }
   ],
   "source": [
    "import joblib\n",
    "\n",
    "# Save the trained model\n",
    "joblib.dump(model, 'outputs/model.pkl')\n",
    "\n",
    "print(\"Model saved to 'outputs/model.pkl'.\")"
   ]
  },
  {
   "cell_type": "code",
   "execution_count": 8,
   "metadata": {},
   "outputs": [
    {
     "name": "stdout",
     "output_type": "stream",
     "text": [
      "Model saved to 'outputs/model.pkl'.\n"
     ]
    }
   ],
   "source": [
    "import pandas as pd\n",
    "from sklearn.model_selection import train_test_split\n",
    "from xgboost import XGBRegressor\n",
    "import joblib\n",
    "import os\n",
    "\n",
    "# Load the cleaned data\n",
    "cleaned_data = pd.read_csv('data/cleaned_sales_data.csv')\n",
    "\n",
    "# Convert 'date' to datetime and extract features\n",
    "cleaned_data['date'] = pd.to_datetime(cleaned_data['date'])\n",
    "cleaned_data['year'] = cleaned_data['date'].dt.year\n",
    "cleaned_data['month'] = cleaned_data['date'].dt.month\n",
    "cleaned_data['day'] = cleaned_data['date'].dt.day\n",
    "\n",
    "# Drop the original 'date' column\n",
    "cleaned_data = cleaned_data.drop(columns=['date'])\n",
    "\n",
    "# Encode 'product_id' using one-hot encoding\n",
    "cleaned_data = pd.get_dummies(cleaned_data, columns=['product_id'], drop_first=True)\n",
    "\n",
    "# Feature selection and target variable\n",
    "X = cleaned_data.drop(columns=['sales'])\n",
    "y = cleaned_data['sales']\n",
    "\n",
    "# Split the data into training and testing sets\n",
    "X_train, X_test, y_train, y_test = train_test_split(X, y, test_size=0.2, random_state=42)\n",
    "\n",
    "# Initialize and train the model\n",
    "model = XGBRegressor()\n",
    "model.fit(X_train, y_train)\n",
    "\n",
    "# Create the 'outputs' directory if it doesn't exist\n",
    "if not os.path.exists('outputs'):\n",
    "    os.makedirs('outputs')\n",
    "    print(\"Created 'outputs' directory.\")\n",
    "\n",
    "# Save the trained model\n",
    "joblib.dump(model, 'outputs/model.pkl')\n",
    "\n",
    "print(\"Model saved to 'outputs/model.pkl'.\")"
   ]
  },
  {
   "cell_type": "code",
   "execution_count": 11,
   "metadata": {},
   "outputs": [
    {
     "name": "stdout",
     "output_type": "stream",
     "text": [
      "Sample new_sales_data.csv file created successfully in the 'data' folder.\n"
     ]
    }
   ],
   "source": [
    "import pandas as pd\n",
    "import numpy as np\n",
    "\n",
    "# Create sample new data\n",
    "new_data = {\n",
    "    'date': pd.date_range(start='2023-10-01', periods=30, freq='D'),  # 30 days of dates\n",
    "    'product_id': np.random.choice(['A', 'B', 'C'], size=30),  # Random product IDs\n",
    "    'year': pd.date_range(start='2023-10-01', periods=30, freq='D').year,  # Extract year\n",
    "    'month': pd.date_range(start='2023-10-01', periods=30, freq='D').month,  # Extract month\n",
    "    'day': pd.date_range(start='2023-10-01', periods=30, freq='D').day  # Extract day\n",
    "}\n",
    "\n",
    "# Convert to DataFrame\n",
    "new_data_df = pd.DataFrame(new_data)\n",
    "\n",
    "# Save to CSV in the 'data' folder\n",
    "new_data_df.to_csv('data/new_sales_data.csv', index=False)\n",
    "\n",
    "print(\"Sample new_sales_data.csv file created successfully in the 'data' folder.\")"
   ]
  },
  {
   "cell_type": "code",
   "execution_count": 12,
   "metadata": {},
   "outputs": [
    {
     "name": "stdout",
     "output_type": "stream",
     "text": [
      "Predictions saved to 'outputs/predicted_sales.csv'.\n"
     ]
    }
   ],
   "source": [
    "import joblib\n",
    "import pandas as pd\n",
    "\n",
    "# Load the trained model\n",
    "model = joblib.load('outputs/model.pkl')\n",
    "\n",
    "# Load new data for prediction\n",
    "new_data = pd.read_csv('data/new_sales_data.csv')\n",
    "\n",
    "# Preprocess the new data (same steps as during training)\n",
    "new_data['date'] = pd.to_datetime(new_data['date'])\n",
    "new_data['year'] = new_data['date'].dt.year\n",
    "new_data['month'] = new_data['date'].dt.month\n",
    "new_data['day'] = new_data['date'].dt.day\n",
    "new_data = new_data.drop(columns=['date'])\n",
    "new_data = pd.get_dummies(new_data, columns=['product_id'], drop_first=True)\n",
    "\n",
    "# Make predictions\n",
    "new_predictions = model.predict(new_data)\n",
    "\n",
    "# Save predictions\n",
    "new_data['predicted_sales'] = new_predictions\n",
    "new_data.to_csv('outputs/predicted_sales.csv', index=False)\n",
    "\n",
    "print(\"Predictions saved to 'outputs/predicted_sales.csv'.\")"
   ]
  },
  {
   "cell_type": "code",
   "execution_count": null,
   "metadata": {},
   "outputs": [],
   "source": []
  }
 ],
 "metadata": {
  "kernelspec": {
   "display_name": "venv",
   "language": "python",
   "name": "python3"
  },
  "language_info": {
   "codemirror_mode": {
    "name": "ipython",
    "version": 3
   },
   "file_extension": ".py",
   "mimetype": "text/x-python",
   "name": "python",
   "nbconvert_exporter": "python",
   "pygments_lexer": "ipython3",
   "version": "3.10.11"
  }
 },
 "nbformat": 4,
 "nbformat_minor": 2
}
