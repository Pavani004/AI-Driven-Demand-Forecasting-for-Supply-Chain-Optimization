{
 "cells": [
  {
   "cell_type": "code",
   "execution_count": 4,
   "metadata": {},
   "outputs": [
    {
     "name": "stdout",
     "output_type": "stream",
     "text": [
      "Mean Squared Error: 156890.625\n"
     ]
    }
   ],
   "source": [
    "import pandas as pd\n",
    "from sklearn.model_selection import train_test_split\n",
    "from xgboost import XGBRegressor\n",
    "from sklearn.metrics import mean_squared_error\n",
    "\n",
    "# Load the cleaned data\n",
    "cleaned_data = pd.read_csv('data/cleaned_sales_data.csv')\n",
    "\n",
    "# Convert 'date' to datetime and extract features\n",
    "cleaned_data['date'] = pd.to_datetime(cleaned_data['date'])\n",
    "cleaned_data['year'] = cleaned_data['date'].dt.year\n",
    "cleaned_data['month'] = cleaned_data['date'].dt.month\n",
    "cleaned_data['day'] = cleaned_data['date'].dt.day\n",
    "\n",
    "# Drop the original 'date' column\n",
    "cleaned_data = cleaned_data.drop(columns=['date'])\n",
    "\n",
    "# Encode 'product_id' using one-hot encoding\n",
    "cleaned_data = pd.get_dummies(cleaned_data, columns=['product_id'], drop_first=True)\n",
    "\n",
    "# Feature selection and target variable\n",
    "X = cleaned_data.drop(columns=['sales'])\n",
    "y = cleaned_data['sales']\n",
    "\n",
    "# Split the data into training and testing sets\n",
    "X_train, X_test, y_train, y_test = train_test_split(X, y, test_size=0.2, random_state=42)\n",
    "\n",
    "# Initialize and train the model\n",
    "model = XGBRegressor()\n",
    "model.fit(X_train, y_train)\n",
    "\n",
    "# Make predictions\n",
    "predictions = model.predict(X_test)\n",
    "\n",
    "# Evaluate the model\n",
    "mse = mean_squared_error(y_test, predictions)\n",
    "print(f'Mean Squared Error: {mse}')"
   ]
  }
 ],
 "metadata": {
  "kernelspec": {
   "display_name": "venv",
   "language": "python",
   "name": "python3"
  },
  "language_info": {
   "codemirror_mode": {
    "name": "ipython",
    "version": 3
   },
   "file_extension": ".py",
   "mimetype": "text/x-python",
   "name": "python",
   "nbconvert_exporter": "python",
   "pygments_lexer": "ipython3",
   "version": "3.10.11"
  }
 },
 "nbformat": 4,
 "nbformat_minor": 2
}
