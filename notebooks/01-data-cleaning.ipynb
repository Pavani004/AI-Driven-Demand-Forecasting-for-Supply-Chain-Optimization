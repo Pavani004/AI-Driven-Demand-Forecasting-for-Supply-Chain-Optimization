{
 "cells": [
  {
   "cell_type": "code",
   "execution_count": 1,
   "metadata": {},
   "outputs": [],
   "source": [
    "import sys\n",
    "import os\n",
    "sys.path.append(os.path.abspath('../src'))\n"
   ]
  },
  {
   "cell_type": "code",
   "execution_count": 9,
   "metadata": {},
   "outputs": [
    {
     "name": "stdout",
     "output_type": "stream",
     "text": [
      "Sample sales_data.csv file created successfully in the 'data' folder.\n"
     ]
    }
   ],
   "source": [
    "import pandas as pd\n",
    "import numpy as np\n",
    "import os\n",
    "\n",
    "# Create the 'data' directory if it doesn't exist\n",
    "if not os.path.exists('data'):\n",
    "    os.makedirs('data')\n",
    "    print(\"Created 'data' directory.\")\n",
    "\n",
    "# Create sample data\n",
    "data = {\n",
    "    'date': pd.date_range(start='2023-01-01', periods=100, freq='D'),  # 100 days of dates\n",
    "    'sales': np.random.randint(100, 1000, size=100),  # Random sales data between 100 and 1000\n",
    "    'product_id': np.random.choice(['A', 'B', 'C'], size=100)  # Random product IDs\n",
    "}\n",
    "\n",
    "# Convert to DataFrame\n",
    "sales_data = pd.DataFrame(data)\n",
    "\n",
    "# Save to CSV in the 'data' folder\n",
    "sales_data.to_csv('data/sales_data.csv', index=False)\n",
    "\n",
    "print(\"Sample sales_data.csv file created successfully in the 'data' folder.\")"
   ]
  },
  {
   "cell_type": "code",
   "execution_count": 5,
   "metadata": {},
   "outputs": [
    {
     "name": "stdout",
     "output_type": "stream",
     "text": [
      "Current Working Directory: c:\\Users\\admin\\ai-demand-prediction\\notebooks\n"
     ]
    }
   ],
   "source": [
    "import os\n",
    "print(\"Current Working Directory:\", os.getcwd())"
   ]
  }
 ],
 "metadata": {
  "kernelspec": {
   "display_name": "venv",
   "language": "python",
   "name": "python3"
  },
  "language_info": {
   "codemirror_mode": {
    "name": "ipython",
    "version": 3
   },
   "file_extension": ".py",
   "mimetype": "text/x-python",
   "name": "python",
   "nbconvert_exporter": "python",
   "pygments_lexer": "ipython3",
   "version": "3.10.11"
  }
 },
 "nbformat": 4,
 "nbformat_minor": 2
}
